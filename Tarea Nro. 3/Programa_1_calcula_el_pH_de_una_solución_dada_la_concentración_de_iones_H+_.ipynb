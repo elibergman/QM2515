{
  "nbformat": 4,
  "nbformat_minor": 0,
  "metadata": {
    "colab": {
      "provenance": [],
      "authorship_tag": "ABX9TyOIBwaBzpQy1yYFb1gs5yeB",
      "include_colab_link": true
    },
    "kernelspec": {
      "name": "python3",
      "display_name": "Python 3"
    },
    "language_info": {
      "name": "python"
    }
  },
  "cells": [
    {
      "cell_type": "markdown",
      "metadata": {
        "id": "view-in-github",
        "colab_type": "text"
      },
      "source": [
        "<a href=\"https://colab.research.google.com/github/elibergman/QM2515/blob/main/Tarea%20Nro.%203/Programa_1_calcula_el_pH_de_una_soluci%C3%B3n_dada_la_concentraci%C3%B3n_de_iones_H%2B_.ipynb\" target=\"_parent\"><img src=\"https://colab.research.google.com/assets/colab-badge.svg\" alt=\"Open In Colab\"/></a>"
      ]
    },
    {
      "cell_type": "code",
      "source": [
        "#   Lo primero que realizamos es importar la libreria math, esto para poder\n",
        "#   utilizar la funcion logaritmo base 10\n",
        "\n",
        "import math\n",
        "\n",
        "#   Definimos una funcion que tenga como variable la concetracion H+\n",
        "#   y realizamos un condicional para que cuando se de un valor menos o igual que\n",
        "#   cero, arroje un error, de lo contrario seria un numero mayor que cero por\n",
        "#   lo tanto se aplica la formula.\n",
        "\n",
        "def calcular_pH(concentracion_Hmas):\n",
        "    \"\"\"Calcula el pH de una solución dada la concentración de iones H+.\"\"\"\n",
        "    if concentracion_Hmas <= 0:\n",
        "        return \"Error: La concentración de iones H+ debe ser mayor que 0.\"\n",
        "    else:\n",
        "        return -math.log10(concentracion_Hmas)\n",
        "\n",
        "#   Escribimos una variable que llamaremos concentracion que sera un\n",
        "#   input y numero flotante\n",
        "#   Escribimos otra variable que llamaremos pH y que sera el resultado de\n",
        "#   evaluar la concentracion en la funcion calcular_pH\n",
        "\n",
        "#   Finalmente, utilizamos print para arrojar el resultado del pH y le\n",
        "#   indicamos que nos de 2 decimales.\n",
        "\n",
        "concentracion = float(input(\"Introduce la concentración de iones H+ (en mol/L): \"))\n",
        "pH = calcular_pH(concentracion)\n",
        "print(f\"El pH de la solución es: {pH:.2f}\")\n"
      ],
      "metadata": {
        "colab": {
          "base_uri": "https://localhost:8080/"
        },
        "id": "SHYABYiohhnR",
        "outputId": "fdd4b536-741f-4a0e-fbfd-3ecbd2b2187c"
      },
      "execution_count": null,
      "outputs": [
        {
          "output_type": "stream",
          "name": "stdout",
          "text": [
            "Introduce la concentración de iones H+ (en mol/L): 0.0000000015\n",
            "El pH de la solución es: 8.82\n"
          ]
        }
      ]
    }
  ]
}