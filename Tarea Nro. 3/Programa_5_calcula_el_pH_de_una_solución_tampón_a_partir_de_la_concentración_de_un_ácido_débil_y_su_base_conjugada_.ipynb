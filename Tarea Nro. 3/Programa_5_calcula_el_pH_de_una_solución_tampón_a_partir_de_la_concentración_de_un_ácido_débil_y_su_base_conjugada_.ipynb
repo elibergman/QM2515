{
  "nbformat": 4,
  "nbformat_minor": 0,
  "metadata": {
    "colab": {
      "provenance": [],
      "authorship_tag": "ABX9TyP/8qzbRO98WjNpRcw6qZ+C",
      "include_colab_link": true
    },
    "kernelspec": {
      "name": "python3",
      "display_name": "Python 3"
    },
    "language_info": {
      "name": "python"
    }
  },
  "cells": [
    {
      "cell_type": "markdown",
      "metadata": {
        "id": "view-in-github",
        "colab_type": "text"
      },
      "source": [
        "<a href=\"https://colab.research.google.com/github/elibergman/QM2515/blob/main/Tarea%20Nro.%203/Programa_5_calcula_el_pH_de_una_soluci%C3%B3n_tamp%C3%B3n_a_partir_de_la_concentraci%C3%B3n_de_un_%C3%A1cido_d%C3%A9bil_y_su_base_conjugada_.ipynb\" target=\"_parent\"><img src=\"https://colab.research.google.com/assets/colab-badge.svg\" alt=\"Open In Colab\"/></a>"
      ]
    },
    {
      "cell_type": "code",
      "execution_count": null,
      "metadata": {
        "id": "DVlr_r1-w7z1",
        "colab": {
          "base_uri": "https://localhost:8080/"
        },
        "outputId": "b1ab91ab-9575-4cb1-d4dd-aebfc2c024d2"
      },
      "outputs": [
        {
          "output_type": "stream",
          "name": "stdout",
          "text": [
            "Introduce el pKa del acido debil: 50\n",
            "Introduce la concentracion del acido debil (en M): 4\n",
            "Introduce la concentracion de la base conjugada (en M): 2\n",
            "El pH de la solucion tampon es: 49.70\n"
          ]
        }
      ],
      "source": [
        "import math\n",
        "\n",
        "# Definimos una función para calcular el pH de una solución tampón\n",
        "def calcular_pH(pKa, concentracion_acido, concentracion_base):\n",
        "    # Verificamos que la concentración del ácido no sea cero para evitar división por cero\n",
        "    if concentracion_acido == 0:\n",
        "        return \"La concentracion del acido debil no puede ser 0\"\n",
        "    # Calculamos y retornamos el pH usando la ecuación de Henderson-Hasselbalch\n",
        "    return pKa + math.log10(concentracion_base / concentracion_acido)\n",
        "\n",
        "# Solicitamos los datos necesarios para el cálculo\n",
        "try:\n",
        "    pKa = float(input(\"Introduce el pKa del acido debil: \"))\n",
        "    concentracion_acido = float(input(\"Introduce la concentracion del acido debil (en M): \"))\n",
        "    concentracion_base = float(input(\"Introduce la concentracion de la base conjugada (en M): \"))\n",
        "\n",
        "    # Llamamos a la función para calcular el pH\n",
        "    pH = calcular_pH(pKa, concentracion_acido, concentracion_base)\n",
        "\n",
        "    # Verificamos si el resultado obtenido es un mensaje de error o un valor numérico\n",
        "    if isinstance(pH, str):\n",
        "        # Si es un mensaje de error, lo imprimimos\n",
        "        print(pH)\n",
        "    else:\n",
        "        # Si es un valor numérico, imprimimos el pH formateado a dos decimales\n",
        "        print(f\"El pH de la solucion tampon es: {pH:.2f}\")\n",
        "# Capturamos posibles errores de valor\n",
        "except ValueError:\n",
        "    print(\"Por favor, introduce valores validos\")\n"
      ]
    }
  ]
}