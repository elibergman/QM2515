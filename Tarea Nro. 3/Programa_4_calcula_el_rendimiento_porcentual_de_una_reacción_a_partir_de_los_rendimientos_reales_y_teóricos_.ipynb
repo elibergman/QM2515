{
  "nbformat": 4,
  "nbformat_minor": 0,
  "metadata": {
    "colab": {
      "provenance": [],
      "authorship_tag": "ABX9TyOeYbGfeWU7gKTVcmCks+mY",
      "include_colab_link": true
    },
    "kernelspec": {
      "name": "python3",
      "display_name": "Python 3"
    },
    "language_info": {
      "name": "python"
    }
  },
  "cells": [
    {
      "cell_type": "markdown",
      "metadata": {
        "id": "view-in-github",
        "colab_type": "text"
      },
      "source": [
        "<a href=\"https://colab.research.google.com/github/elibergman/QM2515/blob/main/Tarea%20Nro.%203/Programa_4_calcula_el_rendimiento_porcentual_de_una_reacci%C3%B3n_a_partir_de_los_rendimientos_reales_y_te%C3%B3ricos_.ipynb\" target=\"_parent\"><img src=\"https://colab.research.google.com/assets/colab-badge.svg\" alt=\"Open In Colab\"/></a>"
      ]
    },
    {
      "cell_type": "code",
      "execution_count": null,
      "metadata": {
        "id": "EPWj6VGDvH5T",
        "colab": {
          "base_uri": "https://localhost:8080/"
        },
        "outputId": "535030f4-da8e-4193-a13c-7108579874bf"
      },
      "outputs": [
        {
          "output_type": "stream",
          "name": "stdout",
          "text": [
            "Introduce el rendimiento real de la reaccion (en gramos): 20\n",
            "Introduce el rendimiento teorico de la reaccion (en gramos): 14\n",
            "El rendimiento porcentual de la reaccion es: 142.86%\n"
          ]
        }
      ],
      "source": [
        "# Definimos una funcion para calcular el rendimiento porcentual de una reaccion\n",
        "def calcular_rendimiento_porcentual(rendimiento_real, rendimiento_teorico):\n",
        "    if rendimiento_teorico <= 0:\n",
        "# Si el rendimiento teorico no es valido, retornamos un mensaje de error\n",
        "        return \"El rendimiento teorico debe ser mayor que 0\"\n",
        "# Si el rendimiento teorico es valido, calculamos y retornamos el rendimiento porcentual\n",
        "    return (rendimiento_real / rendimiento_teorico) * 100\n",
        "\n",
        "# Solicitamos el rendimiento real de la reaccion y convertimos la entrada a numero flotante\n",
        "rendimiento_real = float(input(\"Introduce el rendimiento real de la reaccion (en gramos): \"))\n",
        "# Solicitamos el rendimiento teorico de la reaccion y convertimos la entrada a numero flotante\n",
        "rendimiento_teorico = float(input(\"Introduce el rendimiento teorico de la reaccion (en gramos): \"))\n",
        "\n",
        "# Llamamos a la funcion para calcular el rendimiento porcentual y almacenamos el resultado\n",
        "rendimiento_porcentual = calcular_rendimiento_porcentual(rendimiento_real, rendimiento_teorico)\n",
        "\n",
        "# Imprimimos el rendimiento porcentual formateado a dos decimales\n",
        "print(f\"El rendimiento porcentual de la reaccion es: {rendimiento_porcentual:.2f}%\")\n"
      ]
    }
  ]
}