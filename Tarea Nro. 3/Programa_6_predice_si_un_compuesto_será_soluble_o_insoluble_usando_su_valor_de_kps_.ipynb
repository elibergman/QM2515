{
  "nbformat": 4,
  "nbformat_minor": 0,
  "metadata": {
    "colab": {
      "provenance": [],
      "authorship_tag": "ABX9TyOy2Kc7ogJCBMOOYkOwcbwm",
      "include_colab_link": true
    },
    "kernelspec": {
      "name": "python3",
      "display_name": "Python 3"
    },
    "language_info": {
      "name": "python"
    }
  },
  "cells": [
    {
      "cell_type": "markdown",
      "metadata": {
        "id": "view-in-github",
        "colab_type": "text"
      },
      "source": [
        "<a href=\"https://colab.research.google.com/github/elibergman/QM2515/blob/main/Tarea%20Nro.%203/Programa_6_predice_si_un_compuesto_ser%C3%A1_soluble_o_insoluble_usando_su_valor_de_kps_.ipynb\" target=\"_parent\"><img src=\"https://colab.research.google.com/assets/colab-badge.svg\" alt=\"Open In Colab\"/></a>"
      ]
    },
    {
      "cell_type": "code",
      "execution_count": null,
      "metadata": {
        "id": "pVgcISQxnhag",
        "colab": {
          "base_uri": "https://localhost:8080/"
        },
        "outputId": "c9753e6c-7ebe-483a-acf3-67dd99eadca2"
      },
      "outputs": [
        {
          "output_type": "stream",
          "name": "stdout",
          "text": [
            "Introduce el valor de Ksp: 50\n",
            "Introduce la concentracion del ion 1: 5\n",
            "Introduce el coeficiente estequiometrico del ion 1: 5\n",
            "Introduce la concentracion del ion 2: 4\n",
            "Introduce el coeficiente estequiometrico del ion 2: 5\n",
            "El valor de Q es: 3200000.0\n",
            "Insoluble, se espera que se forme un precipitado.\n"
          ]
        }
      ],
      "source": [
        "def calcular_Q(concentracion_ion1, coeficiente_ion1, concentracion_ion2, coeficiente_ion2):\n",
        "    # Calculamos el producto de solubilidad Q usando las concentraciones y coeficientes estequiometricos dados\n",
        "    return (concentracion_ion1 ** coeficiente_ion1) * (concentracion_ion2 ** coeficiente_ion2)\n",
        "\n",
        "# Solicitamos los datos necesarios para el cálculo\n",
        "Ksp = float(input(\"Introduce el valor de Ksp: \"))\n",
        "concentracion_ion1 = float(input(\"Introduce la concentracion del ion 1: \"))\n",
        "coeficiente_ion1 = int(input(\"Introduce el coeficiente estequiometrico del ion 1: \"))\n",
        "concentracion_ion2 = float(input(\"Introduce la concentracion del ion 2: \"))\n",
        "coeficiente_ion2 = int(input(\"Introduce el coeficiente estequiometrico del ion 2: \"))\n",
        "\n",
        "# Calculamos el valor de Q\n",
        "Q = calcular_Q(concentracion_ion1, coeficiente_ion1, concentracion_ion2, coeficiente_ion2)\n",
        "print(f\"El valor de Q es: {Q}\")\n",
        "\n",
        "# Comparamos Q con Ksp para determinar la solubilidad\n",
        "if Q > Ksp:\n",
        "    print(\"Insoluble, se espera que se forme un precipitado.\")\n",
        "elif Q == Ksp:\n",
        "    print(\"Soluble pero saturada.\")\n",
        "else:\n",
        "    print(\"Soluble e insaturada.\")\n"
      ]
    }
  ]
}