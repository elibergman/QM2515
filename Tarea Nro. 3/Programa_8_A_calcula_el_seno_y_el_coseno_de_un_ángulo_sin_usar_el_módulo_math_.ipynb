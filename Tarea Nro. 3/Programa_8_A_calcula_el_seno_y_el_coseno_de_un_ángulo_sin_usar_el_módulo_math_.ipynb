{
  "nbformat": 4,
  "nbformat_minor": 0,
  "metadata": {
    "colab": {
      "provenance": [],
      "authorship_tag": "ABX9TyN7fkzuUOJ66Y+L616BAvRK",
      "include_colab_link": true
    },
    "kernelspec": {
      "name": "python3",
      "display_name": "Python 3"
    },
    "language_info": {
      "name": "python"
    }
  },
  "cells": [
    {
      "cell_type": "markdown",
      "metadata": {
        "id": "view-in-github",
        "colab_type": "text"
      },
      "source": [
        "<a href=\"https://colab.research.google.com/github/elibergman/QM2515/blob/main/Tarea%20Nro.%203/Programa_8_A_calcula_el_seno_y_el_coseno_de_un_%C3%A1ngulo_sin_usar_el_m%C3%B3dulo_math_.ipynb\" target=\"_parent\"><img src=\"https://colab.research.google.com/assets/colab-badge.svg\" alt=\"Open In Colab\"/></a>"
      ]
    },
    {
      "cell_type": "code",
      "execution_count": null,
      "metadata": {
        "colab": {
          "base_uri": "https://localhost:8080/"
        },
        "id": "3Ky-ksfWyy1I",
        "outputId": "c1db0dbc-5f83-4aa5-b3ba-c76a47d87349"
      },
      "outputs": [
        {
          "output_type": "stream",
          "name": "stdout",
          "text": [
            "Introduce el angulo en grados: 45\n",
            "Seno usando Taylor: 0.7071\n",
            "Coseno usando Taylor: 0.7071\n"
          ]
        }
      ],
      "source": [
        "def factorial(n):\n",
        "# Calcula el factorial de un numero de manera recursiva\n",
        "    if n == 0:\n",
        "        return 1\n",
        "    else:\n",
        "        return n * factorial(n-1)\n",
        "\n",
        "def seno(x, terminos=10):\n",
        "# Calcula el seno de un angulo en radianes usando la serie de Taylor\n",
        "    suma = 0\n",
        "    for n in range(terminos):\n",
        "        coef = (-1)**n\n",
        "        num = x**(2*n + 1)\n",
        "        denom = factorial(2*n + 1)\n",
        "        suma += coef * (num / denom)\n",
        "    return suma\n",
        "\n",
        "def coseno(x, terminos=10):\n",
        "# Calcula el coseno de un angulo en radianes usando la serie de Taylor\n",
        "    suma = 0\n",
        "    for n in range(terminos):\n",
        "        coef = (-1)**n\n",
        "        num = x**(2*n)\n",
        "        denom = factorial(2*n)\n",
        "        suma += coef * (num / denom)\n",
        "    return suma\n",
        "\n",
        "# Solicita al usuario que introduzca un angulo en grados\n",
        "angulo_grados = float(input(\"Introduce el angulo en grados: \"))\n",
        "\n",
        "# Convierte el angulo a radianes\n",
        "angulo_radianes = angulo_grados * (3.141592653589793 / 180)\n",
        "\n",
        "# Calcula el seno y el coseno del angulo usando las series de Taylor\n",
        "sen_taylor = seno(angulo_radianes)\n",
        "cos_taylor = coseno(angulo_radianes)\n",
        "\n",
        "# Muestra los resultados\n",
        "print(f\"Seno usando Taylor: {sen_taylor:.4f}\")\n",
        "print(f\"Coseno usando Taylor: {cos_taylor:.4f}\")\n"
      ]
    }
  ]
}