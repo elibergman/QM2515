{
  "nbformat": 4,
  "nbformat_minor": 0,
  "metadata": {
    "colab": {
      "provenance": [],
      "authorship_tag": "ABX9TyO2pfcV0JcUm6RnqbVLhz41",
      "include_colab_link": true
    },
    "kernelspec": {
      "name": "python3",
      "display_name": "Python 3"
    },
    "language_info": {
      "name": "python"
    }
  },
  "cells": [
    {
      "cell_type": "markdown",
      "metadata": {
        "id": "view-in-github",
        "colab_type": "text"
      },
      "source": [
        "<a href=\"https://colab.research.google.com/github/elibergman/QM2515/blob/main/Tarea%20Nro.%203/Programa_3_calcula_la_concentraci%C3%B3n_de_cualquier_compuesto_(moles_litros)_.ipynb\" target=\"_parent\"><img src=\"https://colab.research.google.com/assets/colab-badge.svg\" alt=\"Open In Colab\"/></a>"
      ]
    },
    {
      "cell_type": "code",
      "execution_count": null,
      "metadata": {
        "id": "wK-xSR8xujvv",
        "colab": {
          "base_uri": "https://localhost:8080/"
        },
        "outputId": "7242446d-41ce-4155-92d5-6b68c9a7bb67"
      },
      "outputs": [
        {
          "output_type": "stream",
          "name": "stdout",
          "text": [
            "Introduce el nombre del compuesto: x\n",
            "Introduce la cantidad de moles de x: 0\n",
            "Introduce el volumen de la solución (en litros): 1\n",
            "La concentración molar de x es: 0.000 M\n"
          ]
        }
      ],
      "source": [
        "# Definimos una funcion para calcular la concentración molar\n",
        "def calcular_concentracion(moles, volumen_litros):\n",
        "# Verificamos que el volumen sea mayor a 0 para evitar divisiones por cero\n",
        "    if volumen_litros <= 0:\n",
        "# Si el volumen no es válido, retornamos un mensaje de error\n",
        "        return \"El volumen debe ser mayor que 0.\"\n",
        "    else:\n",
        "# Si el volumen es válido, calculamos y retornamos la concentración molar\n",
        "        return moles / volumen_litros\n",
        "\n",
        "# Solicitamos al usuario el nombre del compuesto\n",
        "compuesto = input(\"Introduce el nombre del compuesto: \")\n",
        "# Solicitamos la cantidad de moles y convertimos la entrada a numero flotante\n",
        "moles = float(input(f\"Introduce la cantidad de moles de {compuesto}: \"))\n",
        "# Solicitamos el volumen de la solucion y convertimos la entrada a numero flotante\n",
        "volumen = float(input(\"Introduce el volumen de la solución (en litros): \"))\n",
        "\n",
        "# Llamamos a la funcion para calcular la concentración molar y almacenamos el resultado\n",
        "concentracion = calcular_concentracion(moles, volumen)\n",
        "\n",
        "# Imprimimos el resultado, que puede ser un valor numerico o un mensaje de error\n",
        "print(f\"La concentración molar de {compuesto} es: {concentracion:.3f} M\")\n"
      ]
    }
  ]
}