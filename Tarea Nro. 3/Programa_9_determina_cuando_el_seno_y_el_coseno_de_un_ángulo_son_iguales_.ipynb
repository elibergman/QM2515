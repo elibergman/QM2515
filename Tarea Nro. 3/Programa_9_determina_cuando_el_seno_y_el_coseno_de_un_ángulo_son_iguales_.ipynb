{
  "nbformat": 4,
  "nbformat_minor": 0,
  "metadata": {
    "colab": {
      "provenance": [],
      "authorship_tag": "ABX9TyNfgECyBSAxsoJGO5TkY7oa",
      "include_colab_link": true
    },
    "kernelspec": {
      "name": "python3",
      "display_name": "Python 3"
    },
    "language_info": {
      "name": "python"
    }
  },
  "cells": [
    {
      "cell_type": "markdown",
      "metadata": {
        "id": "view-in-github",
        "colab_type": "text"
      },
      "source": [
        "<a href=\"https://colab.research.google.com/github/elibergman/QM2515/blob/main/Tarea%20Nro.%203/Programa_9_determina_cuando_el_seno_y_el_coseno_de_un_%C3%A1ngulo_son_iguales_.ipynb\" target=\"_parent\"><img src=\"https://colab.research.google.com/assets/colab-badge.svg\" alt=\"Open In Colab\"/></a>"
      ]
    },
    {
      "cell_type": "code",
      "source": [
        "import math\n",
        "\n",
        "def comparar_seno_coseno(angulo_grados, tolerancia=1e-8):\n",
        "    # Convierte el angulo de grados a radianes\n",
        "    angulo_radianes = math.radians(angulo_grados)\n",
        "\n",
        "    # Calcula el seno y el coseno del angulo\n",
        "    seno = math.sin(angulo_radianes)\n",
        "    coseno = math.cos(angulo_radianes)\n",
        "\n",
        "    # Compara el seno y el coseno con una tolerancia dada\n",
        "    if abs(seno - coseno) < tolerancia:\n",
        "        print(f\"Para {angulo_grados} grados, el seno y el coseno son aproximadamente iguales con un valor de {seno:.4f}\")\n",
        "    else:\n",
        "        print(f\"Para {angulo_grados} grados, el seno y el coseno no son iguales (seno: {seno:.4f}, coseno: {coseno:.4f})\")\n",
        "\n",
        "# Solicitamos que se introduzca un angulo en grados\n",
        "angulo = float(input(\"Introduce el angulo en grados: \"))\n",
        "\n",
        "# Llama a la funcion para comparar el seno y el coseno del angulo dado\n",
        "comparar_seno_coseno(angulo)\n"
      ],
      "metadata": {
        "colab": {
          "base_uri": "https://localhost:8080/"
        },
        "id": "v_QoM4VOlvje",
        "outputId": "fdcbc1ec-6739-4af5-8095-79af1ea4f538"
      },
      "execution_count": null,
      "outputs": [
        {
          "output_type": "stream",
          "name": "stdout",
          "text": [
            "Introduce el angulo en grados: 90\n",
            "Para 90.0 grados, el seno y el coseno no son iguales (seno: 1.0000, coseno: 0.0000)\n"
          ]
        }
      ]
    }
  ]
}