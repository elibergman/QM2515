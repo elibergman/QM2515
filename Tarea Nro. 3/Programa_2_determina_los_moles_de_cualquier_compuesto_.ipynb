{
  "nbformat": 4,
  "nbformat_minor": 0,
  "metadata": {
    "colab": {
      "provenance": [],
      "authorship_tag": "ABX9TyMGBP4e3UQqpPdOuK5JmDCw",
      "include_colab_link": true
    },
    "kernelspec": {
      "name": "python3",
      "display_name": "Python 3"
    },
    "language_info": {
      "name": "python"
    }
  },
  "cells": [
    {
      "cell_type": "markdown",
      "metadata": {
        "id": "view-in-github",
        "colab_type": "text"
      },
      "source": [
        "<a href=\"https://colab.research.google.com/github/elibergman/QM2515/blob/main/Tarea%20Nro.%203/Programa_2_determina_los_moles_de_cualquier_compuesto_.ipynb\" target=\"_parent\"><img src=\"https://colab.research.google.com/assets/colab-badge.svg\" alt=\"Open In Colab\"/></a>"
      ]
    },
    {
      "cell_type": "code",
      "execution_count": null,
      "metadata": {
        "id": "Zihn1vgKtXCB",
        "colab": {
          "base_uri": "https://localhost:8080/"
        },
        "outputId": "4c0688c2-88ec-440d-b1f9-eb91a370657d"
      },
      "outputs": [
        {
          "output_type": "stream",
          "name": "stdout",
          "text": [
            "Introduce el nombre del compuesto: x\n",
            "Introduce la masa de x (en gramos): 20\n",
            "Introduce la masa molar de x (en g/mol): 1\n",
            "La cantidad de moles de x es: 20.000 mol\n"
          ]
        }
      ],
      "source": [
        "# Definimos una funcion se encarga de calcular los moles de un compuesto\n",
        "# Se necesitan dos argumentos: la masa del compuesto y su masa molar\n",
        "def calcular_moles(masa, masa_molar):\n",
        "    if masa_molar <= 0:\n",
        "        # Si la masa molar es menor o igual a cero, se retorna un mensaje de error\n",
        "        return \"Error: La masa molar debe ser mayor que 0\"\n",
        "    else:\n",
        "        # Si la masa molar es válida, se realiza el cálculo de moles y se retorna el resultado\n",
        "        return masa / masa_molar\n",
        "\n",
        "# Se solicita al usuario que introduzca el nombre del compuesto\n",
        "compuesto = input(\"Introduce el nombre del compuesto: \")\n",
        "# Se solicita al usuario que introduzca la masa del compuesto, y se convierte el valor a número flotante\n",
        "masa = float(input(f\"Introduce la masa de {compuesto} (en gramos): \"))\n",
        "# Se solicita al usuario que introduzca la masa molar del compuesto, y se convierte el valor a número flotante\n",
        "masa_molar = float(input(f\"Introduce la masa molar de {compuesto} (en g/mol): \"))\n",
        "\n",
        "# Se llama a la función calcular_moles para obtener la cantidad de moles\n",
        "moles = calcular_moles(masa, masa_molar)\n",
        "print(f\"La cantidad de moles de {compuesto} es: {moles:.3f} mol\")\n"
      ]
    }
  ]
}