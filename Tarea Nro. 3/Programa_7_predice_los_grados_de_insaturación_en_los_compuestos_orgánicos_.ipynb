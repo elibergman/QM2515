{
  "nbformat": 4,
  "nbformat_minor": 0,
  "metadata": {
    "colab": {
      "provenance": [],
      "authorship_tag": "ABX9TyO5PD8LMBYK4NdnhgTw+Dze",
      "include_colab_link": true
    },
    "kernelspec": {
      "name": "python3",
      "display_name": "Python 3"
    },
    "language_info": {
      "name": "python"
    }
  },
  "cells": [
    {
      "cell_type": "markdown",
      "metadata": {
        "id": "view-in-github",
        "colab_type": "text"
      },
      "source": [
        "<a href=\"https://colab.research.google.com/github/elibergman/QM2515/blob/main/Tarea%20Nro.%203/Programa_7_predice_los_grados_de_insaturaci%C3%B3n_en_los_compuestos_org%C3%A1nicos_.ipynb\" target=\"_parent\"><img src=\"https://colab.research.google.com/assets/colab-badge.svg\" alt=\"Open In Colab\"/></a>"
      ]
    },
    {
      "cell_type": "code",
      "source": [
        "def calcular_insuraciones(C, N, H, X):\n",
        "    # Calcula el indice de insaturacion a partir de la cantidad de atomos de carbono, nitrogeno, hidrogeno y halogenos\n",
        "    return C + N/2 + 1 - (H + X)/2\n",
        "\n",
        "# Solicitamos que se introduzca la cantidad de atomos de cada tipo\n",
        "C = int(input(\"Introduce el numero de atomos de carbono: \"))\n",
        "N = int(input(\"Introduce el numero de atomos de nitrogeno: \"))\n",
        "H = int(input(\"Introduce el numero de atomos de hidrogeno: \"))\n",
        "X = int(input(\"Introduce el numero de atomos de halogenos: \"))\n",
        "\n",
        "# Calculamos el indice de insaturacion\n",
        "insaturaciones = calcular_insuraciones(C, N, H, X)\n",
        "\n",
        "# Mostramos el resultado al usuario\n",
        "print(f\"El numero de insaturaciones es: {insaturaciones}\")\n"
      ],
      "metadata": {
        "id": "eBGCMOq7FNOq",
        "colab": {
          "base_uri": "https://localhost:8080/"
        },
        "outputId": "70d27115-590a-44c2-f0e4-d3fb6601c62a"
      },
      "execution_count": null,
      "outputs": [
        {
          "output_type": "stream",
          "name": "stdout",
          "text": [
            "Introduce el numero de atomos de carbono: 5\n",
            "Introduce el numero de atomos de nitrogeno: 5\n",
            "Introduce el numero de atomos de hidrogeno: 1\n",
            "Introduce el numero de atomos de halogenos: 2\n",
            "El numero de insaturaciones es: 7.0\n"
          ]
        }
      ]
    }
  ]
}