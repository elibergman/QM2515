{
  "nbformat": 4,
  "nbformat_minor": 0,
  "metadata": {
    "colab": {
      "provenance": [],
      "authorship_tag": "ABX9TyMGDhGIVf3oSC9/L93E6Znu",
      "include_colab_link": true
    },
    "kernelspec": {
      "name": "python3",
      "display_name": "Python 3"
    },
    "language_info": {
      "name": "python"
    }
  },
  "cells": [
    {
      "cell_type": "markdown",
      "metadata": {
        "id": "view-in-github",
        "colab_type": "text"
      },
      "source": [
        "<a href=\"https://colab.research.google.com/github/elibergman/QM2515/blob/main/Tarea%20Nro.%203/Programa_8_B_calcula_el_seno_y_el_coseno_de_un_%C3%A1ngulo_usando_el_m%C3%B3dulo_math_.ipynb\" target=\"_parent\"><img src=\"https://colab.research.google.com/assets/colab-badge.svg\" alt=\"Open In Colab\"/></a>"
      ]
    },
    {
      "cell_type": "code",
      "execution_count": null,
      "metadata": {
        "id": "T3P5HmiHzR-W",
        "colab": {
          "base_uri": "https://localhost:8080/"
        },
        "outputId": "5af2038c-83a7-4451-b308-767535d471e2"
      },
      "outputs": [
        {
          "output_type": "stream",
          "name": "stdout",
          "text": [
            "Introduce el ángulo en grados: 45\n",
            "Seno usando math: 0.7071\n",
            "Coseno usando math: 0.7071\n"
          ]
        }
      ],
      "source": [
        "# importamos la libreria math\n",
        "import math\n",
        "\n",
        "# Conversión a radianes\n",
        "angulo_grados = float(input(\"Introduce el ángulo en grados: \"))\n",
        "angulo_radianes = angulo_grados * (math.pi / 180)\n",
        "\n",
        "# defino las variables donde se guardaran los resultados\n",
        "seno = math.sin(angulo_radianes)\n",
        "coseno = math.cos(angulo_radianes)\n",
        "\n",
        "# imprimo los resultados\n",
        "print(f\"Seno usando math: {seno:.4f}\")\n",
        "print(f\"Coseno usando math: {coseno:.4f}\")\n",
        "\n"
      ]
    },
    {
      "cell_type": "code",
      "source": [],
      "metadata": {
        "id": "7aej6W1iQOBe"
      },
      "execution_count": null,
      "outputs": []
    }
  ]
}